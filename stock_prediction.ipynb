{
 "cells": [
  {
   "cell_type": "markdown",
   "metadata": {},
   "source": [
    "# Author:Harman Kaur\n",
    "## GRIP@The Sparks Foundation\n",
    "## Task: Stock Market prediction using numerical and textual analysis\n",
    " In this task I created a hybrid model for stock price/performance prediction using numerical analysis of historical stock prices, and sentimental analysis of news headlines.  \n"
   ]
  },
  {
   "cell_type": "code",
   "execution_count": 1,
   "metadata": {},
   "outputs": [
    {
     "name": "stdout",
     "output_type": "stream",
     "text": [
      "Requirement already satisfied: pandas-datareader in c:\\users\\500052208\\appdata\\local\\continuum\\anaconda3\\lib\\site-packages (0.9.0)\n",
      "Requirement already satisfied: lxml in c:\\users\\500052208\\appdata\\local\\continuum\\anaconda3\\lib\\site-packages (from pandas-datareader) (4.3.2)\n",
      "Requirement already satisfied: requests>=2.19.0 in c:\\users\\500052208\\appdata\\local\\continuum\\anaconda3\\lib\\site-packages (from pandas-datareader) (2.21.0)\n",
      "Requirement already satisfied: pandas>=0.23 in c:\\users\\500052208\\appdata\\local\\continuum\\anaconda3\\lib\\site-packages (from pandas-datareader) (0.24.2)\n",
      "Requirement already satisfied: urllib3<1.25,>=1.21.1 in c:\\users\\500052208\\appdata\\local\\continuum\\anaconda3\\lib\\site-packages (from requests>=2.19.0->pandas-datareader) (1.24.1)\n",
      "Requirement already satisfied: chardet<3.1.0,>=3.0.2 in c:\\users\\500052208\\appdata\\local\\continuum\\anaconda3\\lib\\site-packages (from requests>=2.19.0->pandas-datareader) (3.0.4)\n",
      "Requirement already satisfied: certifi>=2017.4.17 in c:\\users\\500052208\\appdata\\local\\continuum\\anaconda3\\lib\\site-packages (from requests>=2.19.0->pandas-datareader) (2021.5.30)\n",
      "Requirement already satisfied: idna<2.9,>=2.5 in c:\\users\\500052208\\appdata\\local\\continuum\\anaconda3\\lib\\site-packages (from requests>=2.19.0->pandas-datareader) (2.8)\n",
      "Requirement already satisfied: numpy>=1.12.0 in c:\\users\\500052208\\appdata\\local\\continuum\\anaconda3\\lib\\site-packages (from pandas>=0.23->pandas-datareader) (1.19.5)\n",
      "Requirement already satisfied: python-dateutil>=2.5.0 in c:\\users\\500052208\\appdata\\local\\continuum\\anaconda3\\lib\\site-packages (from pandas>=0.23->pandas-datareader) (2.8.0)\n",
      "Requirement already satisfied: pytz>=2011k in c:\\users\\500052208\\appdata\\local\\continuum\\anaconda3\\lib\\site-packages (from pandas>=0.23->pandas-datareader) (2018.9)\n",
      "Requirement already satisfied: six>=1.5 in c:\\users\\500052208\\appdata\\local\\continuum\\anaconda3\\lib\\site-packages (from python-dateutil>=2.5.0->pandas>=0.23->pandas-datareader) (1.12.0)\n",
      "Requirement already satisfied: pmdarima in c:\\users\\500052208\\appdata\\local\\continuum\\anaconda3\\lib\\site-packages (1.8.2)\n",
      "Requirement already satisfied: urllib3 in c:\\users\\500052208\\appdata\\local\\continuum\\anaconda3\\lib\\site-packages (from pmdarima) (1.24.1)\n",
      "Requirement already satisfied: pandas>=0.19 in c:\\users\\500052208\\appdata\\local\\continuum\\anaconda3\\lib\\site-packages (from pmdarima) (0.24.2)\n",
      "Requirement already satisfied: scikit-learn>=0.22 in c:\\users\\500052208\\appdata\\local\\continuum\\anaconda3\\lib\\site-packages (from pmdarima) (0.24.2)\n",
      "Requirement already satisfied: statsmodels!=0.12.0,>=0.11 in c:\\users\\500052208\\appdata\\local\\continuum\\anaconda3\\lib\\site-packages (from pmdarima) (0.12.2)\n",
      "Requirement already satisfied: scipy>=1.3.2 in c:\\users\\500052208\\appdata\\local\\continuum\\anaconda3\\lib\\site-packages (from pmdarima) (1.6.3)\n",
      "Requirement already satisfied: setuptools!=50.0.0,>=38.6.0 in c:\\users\\500052208\\appdata\\local\\continuum\\anaconda3\\lib\\site-packages (from pmdarima) (53.0.0)\n",
      "Requirement already satisfied: numpy~=1.19.0 in c:\\users\\500052208\\appdata\\local\\continuum\\anaconda3\\lib\\site-packages (from pmdarima) (1.19.5)\n",
      "Requirement already satisfied: Cython!=0.29.18,>=0.29 in c:\\users\\500052208\\appdata\\local\\continuum\\anaconda3\\lib\\site-packages (from pmdarima) (0.29.6)\n",
      "Requirement already satisfied: joblib>=0.11 in c:\\users\\500052208\\appdata\\local\\continuum\\anaconda3\\lib\\site-packages (from pmdarima) (0.14.1)\n",
      "Requirement already satisfied: pytz>=2011k in c:\\users\\500052208\\appdata\\local\\continuum\\anaconda3\\lib\\site-packages (from pandas>=0.19->pmdarima) (2018.9)\n",
      "Requirement already satisfied: python-dateutil>=2.5.0 in c:\\users\\500052208\\appdata\\local\\continuum\\anaconda3\\lib\\site-packages (from pandas>=0.19->pmdarima) (2.8.0)\n",
      "Requirement already satisfied: threadpoolctl>=2.0.0 in c:\\users\\500052208\\appdata\\local\\continuum\\anaconda3\\lib\\site-packages (from scikit-learn>=0.22->pmdarima) (2.1.0)\n",
      "Requirement already satisfied: patsy>=0.5 in c:\\users\\500052208\\appdata\\local\\continuum\\anaconda3\\lib\\site-packages (from statsmodels!=0.12.0,>=0.11->pmdarima) (0.5.1)\n",
      "Requirement already satisfied: six>=1.5 in c:\\users\\500052208\\appdata\\local\\continuum\\anaconda3\\lib\\site-packages (from python-dateutil>=2.5.0->pandas>=0.19->pmdarima) (1.12.0)\n",
      "Requirement already satisfied: textBlob in c:\\users\\500052208\\appdata\\local\\continuum\\anaconda3\\lib\\site-packages (0.15.3)\n",
      "Requirement already satisfied: nltk>=3.1 in c:\\users\\500052208\\appdata\\local\\continuum\\anaconda3\\lib\\site-packages (from textBlob) (3.4)\n",
      "Requirement already satisfied: six in c:\\users\\500052208\\appdata\\local\\continuum\\anaconda3\\lib\\site-packages (from nltk>=3.1->textBlob) (1.12.0)\n",
      "Requirement already satisfied: singledispatch in c:\\users\\500052208\\appdata\\local\\continuum\\anaconda3\\lib\\site-packages (from nltk>=3.1->textBlob) (3.4.0.3)\n",
      "Requirement already satisfied: vaderSentiment in c:\\users\\500052208\\appdata\\local\\continuum\\anaconda3\\lib\\site-packages (3.3.2)\n",
      "Requirement already satisfied: requests in c:\\users\\500052208\\appdata\\local\\continuum\\anaconda3\\lib\\site-packages (from vaderSentiment) (2.21.0)\n",
      "Requirement already satisfied: chardet<3.1.0,>=3.0.2 in c:\\users\\500052208\\appdata\\local\\continuum\\anaconda3\\lib\\site-packages (from requests->vaderSentiment) (3.0.4)\n",
      "Requirement already satisfied: certifi>=2017.4.17 in c:\\users\\500052208\\appdata\\local\\continuum\\anaconda3\\lib\\site-packages (from requests->vaderSentiment) (2021.5.30)\n",
      "Requirement already satisfied: urllib3<1.25,>=1.21.1 in c:\\users\\500052208\\appdata\\local\\continuum\\anaconda3\\lib\\site-packages (from requests->vaderSentiment) (1.24.1)\n",
      "Requirement already satisfied: idna<2.9,>=2.5 in c:\\users\\500052208\\appdata\\local\\continuum\\anaconda3\\lib\\site-packages (from requests->vaderSentiment) (2.8)\n"
     ]
    }
   ],
   "source": [
    "!pip install pandas-datareader\n",
    "!pip install pmdarima\n",
    "!pip install textBlob\n",
    "!pip install vaderSentiment"
   ]
  },
  {
   "cell_type": "markdown",
   "metadata": {},
   "source": [
    "## Stock Market Prediction"
   ]
  },
  {
   "cell_type": "code",
   "execution_count": 2,
   "metadata": {},
   "outputs": [],
   "source": [
    "import pandas as pd\n",
    "import numpy as np\n",
    "import matplotlib.pyplot as plt\n",
    "import pandas_datareader.data as web\n",
    "import datetime\n",
    "import seaborn as sns\n"
   ]
  },
  {
   "cell_type": "markdown",
   "metadata": {},
   "source": [
    "### Importing Stocks Data from Web and performing Exploratory Analysis"
   ]
  },
  {
   "cell_type": "code",
   "execution_count": 3,
   "metadata": {},
   "outputs": [],
   "source": [
    "start=datetime.datetime(2015,6,6)\n",
    "end=datetime.datetime.today()\n"
   ]
  },
  {
   "cell_type": "code",
   "execution_count": 4,
   "metadata": {},
   "outputs": [],
   "source": [
    "stock=web.DataReader(\"^BSESN\",'yahoo',start,end)"
   ]
  },
  {
   "cell_type": "code",
   "execution_count": 5,
   "metadata": {},
   "outputs": [
    {
     "name": "stdout",
     "output_type": "stream",
     "text": [
      "<class 'pandas.core.frame.DataFrame'>\n",
      "DatetimeIndex: 1479 entries, 2015-06-08 to 2021-06-15\n",
      "Data columns (total 6 columns):\n",
      "High         1479 non-null float64\n",
      "Low          1479 non-null float64\n",
      "Open         1479 non-null float64\n",
      "Close        1479 non-null float64\n",
      "Volume       1479 non-null float64\n",
      "Adj Close    1479 non-null float64\n",
      "dtypes: float64(6)\n",
      "memory usage: 80.9 KB\n"
     ]
    }
   ],
   "source": [
    "stock.info()"
   ]
  },
  {
   "cell_type": "code",
   "execution_count": 5,
   "metadata": {},
   "outputs": [],
   "source": [
    "stock.reset_index(inplace=True)"
   ]
  },
  {
   "cell_type": "code",
   "execution_count": 6,
   "metadata": {},
   "outputs": [
    {
     "data": {
      "text/html": [
       "<div>\n",
       "<style scoped>\n",
       "    .dataframe tbody tr th:only-of-type {\n",
       "        vertical-align: middle;\n",
       "    }\n",
       "\n",
       "    .dataframe tbody tr th {\n",
       "        vertical-align: top;\n",
       "    }\n",
       "\n",
       "    .dataframe thead th {\n",
       "        text-align: right;\n",
       "    }\n",
       "</style>\n",
       "<table border=\"1\" class=\"dataframe\">\n",
       "  <thead>\n",
       "    <tr style=\"text-align: right;\">\n",
       "      <th></th>\n",
       "      <th>Date</th>\n",
       "      <th>High</th>\n",
       "      <th>Low</th>\n",
       "      <th>Open</th>\n",
       "      <th>Close</th>\n",
       "      <th>Volume</th>\n",
       "      <th>Adj Close</th>\n",
       "    </tr>\n",
       "  </thead>\n",
       "  <tbody>\n",
       "    <tr>\n",
       "      <th>1474</th>\n",
       "      <td>2021-06-09</td>\n",
       "      <td>52446.921875</td>\n",
       "      <td>51717.070312</td>\n",
       "      <td>52401.410156</td>\n",
       "      <td>51941.640625</td>\n",
       "      <td>15200.0</td>\n",
       "      <td>51941.640625</td>\n",
       "    </tr>\n",
       "    <tr>\n",
       "      <th>1475</th>\n",
       "      <td>2021-06-10</td>\n",
       "      <td>52346.351562</td>\n",
       "      <td>51957.921875</td>\n",
       "      <td>52143.898438</td>\n",
       "      <td>52300.468750</td>\n",
       "      <td>8600.0</td>\n",
       "      <td>52300.468750</td>\n",
       "    </tr>\n",
       "    <tr>\n",
       "      <th>1476</th>\n",
       "      <td>2021-06-11</td>\n",
       "      <td>52641.531250</td>\n",
       "      <td>52388.949219</td>\n",
       "      <td>52477.191406</td>\n",
       "      <td>52474.761719</td>\n",
       "      <td>8500.0</td>\n",
       "      <td>52474.761719</td>\n",
       "    </tr>\n",
       "    <tr>\n",
       "      <th>1477</th>\n",
       "      <td>2021-06-14</td>\n",
       "      <td>52590.921875</td>\n",
       "      <td>51936.308594</td>\n",
       "      <td>52492.339844</td>\n",
       "      <td>52551.531250</td>\n",
       "      <td>9900.0</td>\n",
       "      <td>52551.531250</td>\n",
       "    </tr>\n",
       "    <tr>\n",
       "      <th>1478</th>\n",
       "      <td>2021-06-15</td>\n",
       "      <td>52869.511719</td>\n",
       "      <td>52671.289062</td>\n",
       "      <td>52751.828125</td>\n",
       "      <td>52773.050781</td>\n",
       "      <td>0.0</td>\n",
       "      <td>52773.050781</td>\n",
       "    </tr>\n",
       "  </tbody>\n",
       "</table>\n",
       "</div>"
      ],
      "text/plain": [
       "           Date          High           Low          Open         Close  \\\n",
       "1474 2021-06-09  52446.921875  51717.070312  52401.410156  51941.640625   \n",
       "1475 2021-06-10  52346.351562  51957.921875  52143.898438  52300.468750   \n",
       "1476 2021-06-11  52641.531250  52388.949219  52477.191406  52474.761719   \n",
       "1477 2021-06-14  52590.921875  51936.308594  52492.339844  52551.531250   \n",
       "1478 2021-06-15  52869.511719  52671.289062  52751.828125  52773.050781   \n",
       "\n",
       "       Volume     Adj Close  \n",
       "1474  15200.0  51941.640625  \n",
       "1475   8600.0  52300.468750  \n",
       "1476   8500.0  52474.761719  \n",
       "1477   9900.0  52551.531250  \n",
       "1478      0.0  52773.050781  "
      ]
     },
     "execution_count": 6,
     "metadata": {},
     "output_type": "execute_result"
    }
   ],
   "source": [
    "stock.tail()"
   ]
  },
  {
   "cell_type": "code",
   "execution_count": 7,
   "metadata": {},
   "outputs": [
    {
     "data": {
      "text/plain": [
       "(1479, 7)"
      ]
     },
     "execution_count": 7,
     "metadata": {},
     "output_type": "execute_result"
    }
   ],
   "source": [
    "stock.shape"
   ]
  },
  {
   "cell_type": "code",
   "execution_count": 8,
   "metadata": {},
   "outputs": [
    {
     "data": {
      "text/html": [
       "<div>\n",
       "<style scoped>\n",
       "    .dataframe tbody tr th:only-of-type {\n",
       "        vertical-align: middle;\n",
       "    }\n",
       "\n",
       "    .dataframe tbody tr th {\n",
       "        vertical-align: top;\n",
       "    }\n",
       "\n",
       "    .dataframe thead th {\n",
       "        text-align: right;\n",
       "    }\n",
       "</style>\n",
       "<table border=\"1\" class=\"dataframe\">\n",
       "  <thead>\n",
       "    <tr style=\"text-align: right;\">\n",
       "      <th></th>\n",
       "      <th>High</th>\n",
       "      <th>Low</th>\n",
       "      <th>Open</th>\n",
       "      <th>Close</th>\n",
       "      <th>Volume</th>\n",
       "      <th>Adj Close</th>\n",
       "    </tr>\n",
       "  </thead>\n",
       "  <tbody>\n",
       "    <tr>\n",
       "      <th>count</th>\n",
       "      <td>1479.000000</td>\n",
       "      <td>1479.000000</td>\n",
       "      <td>1479.000000</td>\n",
       "      <td>1479.000000</td>\n",
       "      <td>1.479000e+03</td>\n",
       "      <td>1479.000000</td>\n",
       "    </tr>\n",
       "    <tr>\n",
       "      <th>mean</th>\n",
       "      <td>34517.139444</td>\n",
       "      <td>34106.159691</td>\n",
       "      <td>34352.931561</td>\n",
       "      <td>34307.358576</td>\n",
       "      <td>2.297826e+05</td>\n",
       "      <td>34307.358576</td>\n",
       "    </tr>\n",
       "    <tr>\n",
       "      <th>std</th>\n",
       "      <td>6877.992617</td>\n",
       "      <td>6794.010254</td>\n",
       "      <td>6850.526979</td>\n",
       "      <td>6841.121987</td>\n",
       "      <td>1.938279e+06</td>\n",
       "      <td>6841.121987</td>\n",
       "    </tr>\n",
       "    <tr>\n",
       "      <th>min</th>\n",
       "      <td>23142.960938</td>\n",
       "      <td>22494.609375</td>\n",
       "      <td>23060.390625</td>\n",
       "      <td>22951.830078</td>\n",
       "      <td>0.000000e+00</td>\n",
       "      <td>22951.830078</td>\n",
       "    </tr>\n",
       "    <tr>\n",
       "      <th>25%</th>\n",
       "      <td>28264.035156</td>\n",
       "      <td>28012.174805</td>\n",
       "      <td>28159.254883</td>\n",
       "      <td>28135.740234</td>\n",
       "      <td>1.040000e+04</td>\n",
       "      <td>28135.740234</td>\n",
       "    </tr>\n",
       "    <tr>\n",
       "      <th>50%</th>\n",
       "      <td>34325.179688</td>\n",
       "      <td>33889.750000</td>\n",
       "      <td>34087.320312</td>\n",
       "      <td>34103.480469</td>\n",
       "      <td>1.390000e+04</td>\n",
       "      <td>34103.480469</td>\n",
       "    </tr>\n",
       "    <tr>\n",
       "      <th>75%</th>\n",
       "      <td>38586.738281</td>\n",
       "      <td>38164.275391</td>\n",
       "      <td>38433.400391</td>\n",
       "      <td>38360.324219</td>\n",
       "      <td>1.900000e+04</td>\n",
       "      <td>38360.324219</td>\n",
       "    </tr>\n",
       "    <tr>\n",
       "      <th>max</th>\n",
       "      <td>52869.511719</td>\n",
       "      <td>52671.289062</td>\n",
       "      <td>52751.828125</td>\n",
       "      <td>52773.050781</td>\n",
       "      <td>3.181510e+07</td>\n",
       "      <td>52773.050781</td>\n",
       "    </tr>\n",
       "  </tbody>\n",
       "</table>\n",
       "</div>"
      ],
      "text/plain": [
       "               High           Low          Open         Close        Volume  \\\n",
       "count   1479.000000   1479.000000   1479.000000   1479.000000  1.479000e+03   \n",
       "mean   34517.139444  34106.159691  34352.931561  34307.358576  2.297826e+05   \n",
       "std     6877.992617   6794.010254   6850.526979   6841.121987  1.938279e+06   \n",
       "min    23142.960938  22494.609375  23060.390625  22951.830078  0.000000e+00   \n",
       "25%    28264.035156  28012.174805  28159.254883  28135.740234  1.040000e+04   \n",
       "50%    34325.179688  33889.750000  34087.320312  34103.480469  1.390000e+04   \n",
       "75%    38586.738281  38164.275391  38433.400391  38360.324219  1.900000e+04   \n",
       "max    52869.511719  52671.289062  52751.828125  52773.050781  3.181510e+07   \n",
       "\n",
       "          Adj Close  \n",
       "count   1479.000000  \n",
       "mean   34307.358576  \n",
       "std     6841.121987  \n",
       "min    22951.830078  \n",
       "25%    28135.740234  \n",
       "50%    34103.480469  \n",
       "75%    38360.324219  \n",
       "max    52773.050781  "
      ]
     },
     "execution_count": 8,
     "metadata": {},
     "output_type": "execute_result"
    }
   ],
   "source": [
    "stock.describe()"
   ]
  },
  {
   "cell_type": "markdown",
   "metadata": {},
   "source": [
    "### Data Cleaning"
   ]
  },
  {
   "cell_type": "code",
   "execution_count": 9,
   "metadata": {},
   "outputs": [],
   "source": [
    "stock[\"Date\"]=pd.to_datetime(stock[\"Date\"])"
   ]
  },
  {
   "cell_type": "code",
   "execution_count": 10,
   "metadata": {},
   "outputs": [
    {
     "data": {
      "text/html": [
       "<div>\n",
       "<style scoped>\n",
       "    .dataframe tbody tr th:only-of-type {\n",
       "        vertical-align: middle;\n",
       "    }\n",
       "\n",
       "    .dataframe tbody tr th {\n",
       "        vertical-align: top;\n",
       "    }\n",
       "\n",
       "    .dataframe thead th {\n",
       "        text-align: right;\n",
       "    }\n",
       "</style>\n",
       "<table border=\"1\" class=\"dataframe\">\n",
       "  <thead>\n",
       "    <tr style=\"text-align: right;\">\n",
       "      <th></th>\n",
       "      <th>Date</th>\n",
       "      <th>High</th>\n",
       "      <th>Low</th>\n",
       "      <th>Open</th>\n",
       "      <th>Close</th>\n",
       "      <th>Volume</th>\n",
       "      <th>Adj Close</th>\n",
       "    </tr>\n",
       "  </thead>\n",
       "  <tbody>\n",
       "    <tr>\n",
       "      <th>0</th>\n",
       "      <td>2015-06-08</td>\n",
       "      <td>26827.060547</td>\n",
       "      <td>26472.869141</td>\n",
       "      <td>26814.310547</td>\n",
       "      <td>26523.089844</td>\n",
       "      <td>7900.0</td>\n",
       "      <td>26523.089844</td>\n",
       "    </tr>\n",
       "    <tr>\n",
       "      <th>1</th>\n",
       "      <td>2015-06-09</td>\n",
       "      <td>26604.650391</td>\n",
       "      <td>26438.320312</td>\n",
       "      <td>26510.289062</td>\n",
       "      <td>26481.250000</td>\n",
       "      <td>11000.0</td>\n",
       "      <td>26481.250000</td>\n",
       "    </tr>\n",
       "    <tr>\n",
       "      <th>2</th>\n",
       "      <td>2015-06-10</td>\n",
       "      <td>26934.740234</td>\n",
       "      <td>26493.289062</td>\n",
       "      <td>26517.320312</td>\n",
       "      <td>26840.500000</td>\n",
       "      <td>8400.0</td>\n",
       "      <td>26840.500000</td>\n",
       "    </tr>\n",
       "    <tr>\n",
       "      <th>3</th>\n",
       "      <td>2015-06-11</td>\n",
       "      <td>27000.140625</td>\n",
       "      <td>26348.929688</td>\n",
       "      <td>26959.980469</td>\n",
       "      <td>26370.980469</td>\n",
       "      <td>11300.0</td>\n",
       "      <td>26370.980469</td>\n",
       "    </tr>\n",
       "    <tr>\n",
       "      <th>4</th>\n",
       "      <td>2015-06-12</td>\n",
       "      <td>26489.580078</td>\n",
       "      <td>26307.070312</td>\n",
       "      <td>26340.320312</td>\n",
       "      <td>26425.300781</td>\n",
       "      <td>9600.0</td>\n",
       "      <td>26425.300781</td>\n",
       "    </tr>\n",
       "  </tbody>\n",
       "</table>\n",
       "</div>"
      ],
      "text/plain": [
       "        Date          High           Low          Open         Close   Volume  \\\n",
       "0 2015-06-08  26827.060547  26472.869141  26814.310547  26523.089844   7900.0   \n",
       "1 2015-06-09  26604.650391  26438.320312  26510.289062  26481.250000  11000.0   \n",
       "2 2015-06-10  26934.740234  26493.289062  26517.320312  26840.500000   8400.0   \n",
       "3 2015-06-11  27000.140625  26348.929688  26959.980469  26370.980469  11300.0   \n",
       "4 2015-06-12  26489.580078  26307.070312  26340.320312  26425.300781   9600.0   \n",
       "\n",
       "      Adj Close  \n",
       "0  26523.089844  \n",
       "1  26481.250000  \n",
       "2  26840.500000  \n",
       "3  26370.980469  \n",
       "4  26425.300781  "
      ]
     },
     "execution_count": 10,
     "metadata": {},
     "output_type": "execute_result"
    }
   ],
   "source": [
    "stock.head()"
   ]
  },
  {
   "cell_type": "markdown",
   "metadata": {},
   "source": [
    "### Missing Values"
   ]
  },
  {
   "cell_type": "code",
   "execution_count": 11,
   "metadata": {},
   "outputs": [
    {
     "data": {
      "text/plain": [
       "Date         0\n",
       "High         0\n",
       "Low          0\n",
       "Open         0\n",
       "Close        0\n",
       "Volume       0\n",
       "Adj Close    0\n",
       "dtype: int64"
      ]
     },
     "execution_count": 11,
     "metadata": {},
     "output_type": "execute_result"
    }
   ],
   "source": [
    "stock.isna().sum()"
   ]
  },
  {
   "cell_type": "markdown",
   "metadata": {},
   "source": [
    "### Visualizing the Closing price of Stock"
   ]
  },
  {
   "cell_type": "code",
   "execution_count": 12,
   "metadata": {},
   "outputs": [
    {
     "data": {
      "image/png": "[encoded data removed]",
      "text/plain": [
       "<Figure size 360x360 with 1 Axes>"
      ]
     },
     "metadata": {
      "needs_background": "light"
     },
     "output_type": "display_data"
    }
   ],
   "source": [
    "plt.figure(figsize=(5,5))\n",
    "plt.title(\"Closing prices of stock\",fontsize=18)\n",
    "plt.xlabel(\"Days\",fontsize=18)\n",
    "plt.ylabel(\"Closing price\",fontsize=18)\n",
    "plt.plot(stock[\"Close\"])\n",
    "plt.show()"
   ]
  },
  {
   "cell_type": "markdown",
   "metadata": {},
   "source": [
    "### Visualizing the Opening Price of Stock"
   ]
  },
  {
   "cell_type": "code",
   "execution_count": 13,
   "metadata": {},
   "outputs": [
    {
     "data": {
      "text/plain": [
       "[<matplotlib.lines.Line2D at 0x1919e2a7e10>]"
      ]
     },
     "execution_count": 13,
     "metadata": {},
     "output_type": "execute_result"
    },
    {
     "data": {
      "image/png": "[encoded data removed]",
      "text/plain": [
       "<Figure size 360x360 with 1 Axes>"
      ]
     },
     "metadata": {
      "needs_background": "light"
     },
     "output_type": "display_data"
    }
   ],
   "source": [
    "plt.figure(figsize=(5,5))\n",
    "plt.title(\"Opening price\",fontsize=18)\n",
    "plt.xlabel(\"Days\",fontsize=18)\n",
    "plt.ylabel(\"Opening price\",fontsize=18)\n",
    "plt.plot(stock[\"Open\"])"
   ]
  },
  {
   "cell_type": "markdown",
   "metadata": {},
   "source": [
    "### Visualizing Stock Returns"
   ]
  },
  {
   "cell_type": "code",
   "execution_count": 14,
   "metadata": {},
   "outputs": [
    {
     "data": {
      "text/plain": [
       "[<matplotlib.lines.Line2D at 0x1919e43db38>]"
      ]
     },
     "execution_count": 14,
     "metadata": {},
     "output_type": "execute_result"
    },
    {
     "data": {
      "image/png": "[encoded data removed]",
      "text/plain": [
       "<Figure size 720x720 with 1 Axes>"
      ]
     },
     "metadata": {
      "needs_background": "light"
     },
     "output_type": "display_data"
    }
   ],
   "source": [
    "close=stock[\"Close\"]\n",
    "close=close/close.shift(1)-1\n",
    "plt.figure(figsize=(10,10))\n",
    "plt.title(\"Stock returns\")\n",
    "plt.plot(close,color='g')"
   ]
  },
  {
   "cell_type": "code",
   "execution_count": 15,
   "metadata": {},
   "outputs": [],
   "source": [
    "train_data=stock[:1000]\n",
    "test_data=stock[1000:]"
   ]
  },
  {
   "cell_type": "markdown",
   "metadata": {},
   "source": [
    "## Dickey-Fuller Test\n",
    "\n",
    "The above time series does not look stationary.To confirm that we will use “Dickey-Fuller test” to determine stationarity."
   ]
  },
  {
   "cell_type": "code",
   "execution_count": 16,
   "metadata": {},
   "outputs": [],
   "source": [
    "from statsmodels.tsa.stattools import adfuller"
   ]
  },
  {
   "cell_type": "code",
   "execution_count": 17,
   "metadata": {},
   "outputs": [],
   "source": [
    "def adfullerTest(x):\n",
    "    result=adfuller(x)\n",
    "    print('ADF Statistics:%f'%result[0])\n",
    "    print('p-value:{}'.format(result[1]))\n",
    "    print('critical value:')\n",
    "    for key, value in result[4].items():\n",
    "\t    print('\\t%s: %.3f' % (key, value))\n",
    "    if result[1]<=0.05:\n",
    "        print(\"Reject the null hypothesis, i.e time series is stationalry\")\n",
    "    else:\n",
    "        print(\"Fail to reject the null hypothesis, i.e the time series is non stationary\")\n"
   ]
  },
  {
   "cell_type": "code",
   "execution_count": 18,
   "metadata": {},
   "outputs": [
    {
     "name": "stdout",
     "output_type": "stream",
     "text": [
      "ADF Statistics:0.139197\n",
      "p-value:0.9686376076430483\n",
      "critical value:\n",
      "\t1%: -3.435\n",
      "\t5%: -2.864\n",
      "\t10%: -2.568\n",
      "Fail to reject the null hypothesis, i.e the time series is non stationary\n"
     ]
    }
   ],
   "source": [
    "adfullerTest(stock[\"Close\"])"
   ]
  },
  {
   "cell_type": "markdown",
   "metadata": {},
   "source": [
    "The p-value>0.05, i.e we fail to reject the Null Hypothesis.Hence,the time series is non-stationary."
   ]
  },
  {
   "cell_type": "code",
   "execution_count": 19,
   "metadata": {},
   "outputs": [
    {
     "name": "stderr",
     "output_type": "stream",
     "text": [
      "Using TensorFlow backend.\n",
      "C:\\Users\\500052208\\AppData\\Local\\Continuum\\anaconda3\\lib\\site-packages\\tensorflow\\python\\framework\\dtypes.py:516: FutureWarning: Passing (type, 1) or '1type' as a synonym of type is deprecated; in a future version of numpy, it will be understood as (type, (1,)) / '(1,)type'.\n",
      "  _np_qint8 = np.dtype([(\"qint8\", np.int8, 1)])\n",
      "C:\\Users\\500052208\\AppData\\Local\\Continuum\\anaconda3\\lib\\site-packages\\tensorflow\\python\\framework\\dtypes.py:517: FutureWarning: Passing (type, 1) or '1type' as a synonym of type is deprecated; in a future version of numpy, it will be understood as (type, (1,)) / '(1,)type'.\n",
      "  _np_quint8 = np.dtype([(\"quint8\", np.uint8, 1)])\n",
      "C:\\Users\\500052208\\AppData\\Local\\Continuum\\anaconda3\\lib\\site-packages\\tensorflow\\python\\framework\\dtypes.py:518: FutureWarning: Passing (type, 1) or '1type' as a synonym of type is deprecated; in a future version of numpy, it will be understood as (type, (1,)) / '(1,)type'.\n",
      "  _np_qint16 = np.dtype([(\"qint16\", np.int16, 1)])\n",
      "C:\\Users\\500052208\\AppData\\Local\\Continuum\\anaconda3\\lib\\site-packages\\tensorflow\\python\\framework\\dtypes.py:519: FutureWarning: Passing (type, 1) or '1type' as a synonym of type is deprecated; in a future version of numpy, it will be understood as (type, (1,)) / '(1,)type'.\n",
      "  _np_quint16 = np.dtype([(\"quint16\", np.uint16, 1)])\n",
      "C:\\Users\\500052208\\AppData\\Local\\Continuum\\anaconda3\\lib\\site-packages\\tensorflow\\python\\framework\\dtypes.py:520: FutureWarning: Passing (type, 1) or '1type' as a synonym of type is deprecated; in a future version of numpy, it will be understood as (type, (1,)) / '(1,)type'.\n",
      "  _np_qint32 = np.dtype([(\"qint32\", np.int32, 1)])\n",
      "C:\\Users\\500052208\\AppData\\Local\\Continuum\\anaconda3\\lib\\site-packages\\tensorflow\\python\\framework\\dtypes.py:525: FutureWarning: Passing (type, 1) or '1type' as a synonym of type is deprecated; in a future version of numpy, it will be understood as (type, (1,)) / '(1,)type'.\n",
      "  np_resource = np.dtype([(\"resource\", np.ubyte, 1)])\n",
      "C:\\Users\\500052208\\AppData\\Local\\Continuum\\anaconda3\\lib\\site-packages\\tensorboard\\compat\\tensorflow_stub\\dtypes.py:541: FutureWarning: Passing (type, 1) or '1type' as a synonym of type is deprecated; in a future version of numpy, it will be understood as (type, (1,)) / '(1,)type'.\n",
      "  _np_qint8 = np.dtype([(\"qint8\", np.int8, 1)])\n",
      "C:\\Users\\500052208\\AppData\\Local\\Continuum\\anaconda3\\lib\\site-packages\\tensorboard\\compat\\tensorflow_stub\\dtypes.py:542: FutureWarning: Passing (type, 1) or '1type' as a synonym of type is deprecated; in a future version of numpy, it will be understood as (type, (1,)) / '(1,)type'.\n",
      "  _np_quint8 = np.dtype([(\"quint8\", np.uint8, 1)])\n",
      "C:\\Users\\500052208\\AppData\\Local\\Continuum\\anaconda3\\lib\\site-packages\\tensorboard\\compat\\tensorflow_stub\\dtypes.py:543: FutureWarning: Passing (type, 1) or '1type' as a synonym of type is deprecated; in a future version of numpy, it will be understood as (type, (1,)) / '(1,)type'.\n",
      "  _np_qint16 = np.dtype([(\"qint16\", np.int16, 1)])\n",
      "C:\\Users\\500052208\\AppData\\Local\\Continuum\\anaconda3\\lib\\site-packages\\tensorboard\\compat\\tensorflow_stub\\dtypes.py:544: FutureWarning: Passing (type, 1) or '1type' as a synonym of type is deprecated; in a future version of numpy, it will be understood as (type, (1,)) / '(1,)type'.\n",
      "  _np_quint16 = np.dtype([(\"quint16\", np.uint16, 1)])\n",
      "C:\\Users\\500052208\\AppData\\Local\\Continuum\\anaconda3\\lib\\site-packages\\tensorboard\\compat\\tensorflow_stub\\dtypes.py:545: FutureWarning: Passing (type, 1) or '1type' as a synonym of type is deprecated; in a future version of numpy, it will be understood as (type, (1,)) / '(1,)type'.\n",
      "  _np_qint32 = np.dtype([(\"qint32\", np.int32, 1)])\n",
      "C:\\Users\\500052208\\AppData\\Local\\Continuum\\anaconda3\\lib\\site-packages\\tensorboard\\compat\\tensorflow_stub\\dtypes.py:550: FutureWarning: Passing (type, 1) or '1type' as a synonym of type is deprecated; in a future version of numpy, it will be understood as (type, (1,)) / '(1,)type'.\n",
      "  np_resource = np.dtype([(\"resource\", np.ubyte, 1)])\n"
     ]
    }
   ],
   "source": [
    "import math\n",
    "from keras.models import Sequential\n",
    "from keras.layers import Dense\n",
    "from keras.layers import LSTM\n",
    "from sklearn.preprocessing import MinMaxScaler\n",
    "from sklearn.metrics import mean_squared_error\n",
    "import tensorflow as tf"
   ]
  },
  {
   "cell_type": "code",
   "execution_count": 20,
   "metadata": {},
   "outputs": [
    {
     "name": "stdout",
     "output_type": "stream",
     "text": [
      "          Close\n",
      "0  26523.089844\n",
      "1  26481.250000\n",
      "2  26840.500000\n",
      "3  26370.980469\n",
      "4  26425.300781\n"
     ]
    }
   ],
   "source": [
    "np.random.seed(7)\n",
    "\n",
    "def create_dataset(df2, look_back=1):\n",
    "\tdataX, dataY = [], []\n",
    "\tfor i in range(len(df2)-look_back-1):\n",
    "\t\ta = df2[i:(i+look_back), 0]\n",
    "\t\tdataX.append(a)\n",
    "\t\tdataY.append(df2[i + look_back, 0])\n",
    "\treturn np.array(dataX), np.array(dataY)\n",
    "\n",
    "df=stock[\"Close\"].to_frame()\n",
    "print(df.head())"
   ]
  },
  {
   "cell_type": "markdown",
   "metadata": {},
   "source": [
    "## Data Normalization and Division into Training and Test sets"
   ]
  },
  {
   "cell_type": "code",
   "execution_count": 21,
   "metadata": {},
   "outputs": [],
   "source": [
    "scaler = MinMaxScaler(feature_range=(0, 1))\n",
    "df2 = scaler.fit_transform(df)\n",
    "\n",
    "# split into train and test sets\n",
    "train_size = int(len(df2) * 0.67)\n",
    "test_size = len(df2) - train_size\n",
    "train, test = df2[0:train_size,:], df2[train_size:len(df2),:]\n"
   ]
  },
  {
   "cell_type": "code",
   "execution_count": 22,
   "metadata": {},
   "outputs": [],
   "source": [
    "look_back = 3\n",
    "trainX, trainY = create_dataset(train, look_back)\n",
    "testX, testY = create_dataset(test, look_back)\n",
    "# reshape input to be [samples, time steps, features]\n",
    "trainX = np.reshape(trainX, (trainX.shape[0], trainX.shape[1], 1))\n",
    "testX = np.reshape(testX, (testX.shape[0], testX.shape[1], 1))"
   ]
  },
  {
   "cell_type": "markdown",
   "metadata": {},
   "source": [
    "## Creating a LSTM for Numerical Analysis"
   ]
  },
  {
   "cell_type": "code",
   "execution_count": 23,
   "metadata": {},
   "outputs": [
    {
     "name": "stdout",
     "output_type": "stream",
     "text": [
      "Train on 986 samples\n",
      "Epoch 1/100\n",
      "986/986 - 6s - loss: 0.0086\n",
      "Epoch 2/100\n",
      "986/986 - 4s - loss: 1.8007e-04\n",
      "Epoch 3/100\n",
      "986/986 - 5s - loss: 1.7708e-04\n",
      "Epoch 4/100\n",
      "986/986 - 4s - loss: 1.8224e-04\n",
      "Epoch 5/100\n",
      "986/986 - 4s - loss: 1.6721e-04\n",
      "Epoch 6/100\n",
      "986/986 - 4s - loss: 1.7338e-04\n",
      "Epoch 7/100\n",
      "986/986 - 5s - loss: 1.5151e-04\n",
      "Epoch 8/100\n",
      "986/986 - 4s - loss: 1.5996e-04\n",
      "Epoch 9/100\n",
      "986/986 - 4s - loss: 1.5197e-04\n",
      "Epoch 10/100\n",
      "986/986 - 4s - loss: 1.5310e-04\n",
      "Epoch 11/100\n",
      "986/986 - 5s - loss: 1.5804e-04\n",
      "Epoch 12/100\n",
      "986/986 - 3s - loss: 1.4698e-04\n",
      "Epoch 13/100\n",
      "986/986 - 4s - loss: 1.6269e-04\n",
      "Epoch 14/100\n",
      "986/986 - 4s - loss: 1.4792e-04\n",
      "Epoch 15/100\n",
      "986/986 - 5s - loss: 1.4556e-04\n",
      "Epoch 16/100\n",
      "986/986 - 4s - loss: 1.4432e-04\n",
      "Epoch 17/100\n",
      "986/986 - 4s - loss: 1.4113e-04\n",
      "Epoch 18/100\n",
      "986/986 - 4s - loss: 1.3675e-04\n",
      "Epoch 19/100\n",
      "986/986 - 5s - loss: 1.2862e-04\n",
      "Epoch 20/100\n",
      "986/986 - 4s - loss: 1.2788e-04\n",
      "Epoch 21/100\n",
      "986/986 - 4s - loss: 1.2509e-04\n",
      "Epoch 22/100\n",
      "986/986 - 3s - loss: 1.2725e-04\n",
      "Epoch 23/100\n",
      "986/986 - 4s - loss: 1.1559e-04\n",
      "Epoch 24/100\n",
      "986/986 - 4s - loss: 1.0933e-04\n",
      "Epoch 25/100\n",
      "986/986 - 4s - loss: 1.0278e-04\n",
      "Epoch 26/100\n",
      "986/986 - 4s - loss: 1.0212e-04\n",
      "Epoch 27/100\n",
      "986/986 - 5s - loss: 1.0435e-04\n",
      "Epoch 28/100\n",
      "986/986 - 4s - loss: 1.0176e-04\n",
      "Epoch 29/100\n",
      "986/986 - 4s - loss: 9.6281e-05\n",
      "Epoch 30/100\n",
      "986/986 - 4s - loss: 9.7726e-05\n",
      "Epoch 31/100\n",
      "986/986 - 4s - loss: 1.0267e-04\n",
      "Epoch 32/100\n",
      "986/986 - 4s - loss: 9.9926e-05\n",
      "Epoch 33/100\n",
      "986/986 - 3s - loss: 9.6611e-05\n",
      "Epoch 34/100\n",
      "986/986 - 4s - loss: 9.8581e-05\n",
      "Epoch 35/100\n",
      "986/986 - 4s - loss: 9.7775e-05\n",
      "Epoch 36/100\n",
      "986/986 - 4s - loss: 9.1621e-05\n",
      "Epoch 37/100\n",
      "986/986 - 4s - loss: 9.2492e-05\n",
      "Epoch 38/100\n",
      "986/986 - 5s - loss: 9.0829e-05\n",
      "Epoch 39/100\n",
      "986/986 - 5s - loss: 8.8252e-05\n",
      "Epoch 40/100\n",
      "986/986 - 4s - loss: 9.3808e-05\n",
      "Epoch 41/100\n",
      "986/986 - 4s - loss: 8.7910e-05\n",
      "Epoch 42/100\n",
      "986/986 - 4s - loss: 8.4956e-05\n",
      "Epoch 43/100\n",
      "986/986 - 5s - loss: 9.5817e-05\n",
      "Epoch 44/100\n",
      "986/986 - 4s - loss: 9.1040e-05\n",
      "Epoch 45/100\n",
      "986/986 - 3s - loss: 8.9418e-05\n",
      "Epoch 46/100\n",
      "986/986 - 4s - loss: 8.5805e-05\n",
      "Epoch 47/100\n",
      "986/986 - 4s - loss: 8.8147e-05\n",
      "Epoch 48/100\n",
      "986/986 - 4s - loss: 8.7293e-05\n",
      "Epoch 49/100\n",
      "986/986 - 4s - loss: 9.3489e-05\n",
      "Epoch 50/100\n",
      "986/986 - 4s - loss: 8.5910e-05\n",
      "Epoch 51/100\n",
      "986/986 - 4s - loss: 9.3542e-05\n",
      "Epoch 52/100\n",
      "986/986 - 5s - loss: 8.9655e-05\n",
      "Epoch 53/100\n",
      "986/986 - 4s - loss: 8.5170e-05\n",
      "Epoch 54/100\n",
      "986/986 - 3s - loss: 8.6197e-05\n",
      "Epoch 55/100\n",
      "986/986 - 4s - loss: 8.5954e-05\n",
      "Epoch 56/100\n",
      "986/986 - 5s - loss: 8.4220e-05\n",
      "Epoch 57/100\n",
      "986/986 - 4s - loss: 8.6666e-05\n",
      "Epoch 58/100\n",
      "986/986 - 4s - loss: 8.5334e-05\n",
      "Epoch 59/100\n",
      "986/986 - 5s - loss: 8.6170e-05\n",
      "Epoch 60/100\n",
      "986/986 - 3s - loss: 8.4788e-05\n",
      "Epoch 61/100\n",
      "986/986 - 4s - loss: 8.6173e-05\n",
      "Epoch 62/100\n",
      "986/986 - 5s - loss: 8.5718e-05\n",
      "Epoch 63/100\n",
      "986/986 - 5s - loss: 8.4928e-05\n",
      "Epoch 64/100\n",
      "986/986 - 4s - loss: 8.7706e-05\n",
      "Epoch 65/100\n",
      "986/986 - 4s - loss: 8.8267e-05\n",
      "Epoch 66/100\n",
      "986/986 - 5s - loss: 8.7840e-05\n",
      "Epoch 67/100\n",
      "986/986 - 4s - loss: 8.3582e-05\n",
      "Epoch 68/100\n",
      "986/986 - 4s - loss: 8.7514e-05\n",
      "Epoch 69/100\n",
      "986/986 - 4s - loss: 8.7339e-05\n",
      "Epoch 70/100\n",
      "986/986 - 5s - loss: 8.5332e-05\n",
      "Epoch 71/100\n",
      "986/986 - 4s - loss: 8.4593e-05\n",
      "Epoch 72/100\n",
      "986/986 - 4s - loss: 8.2932e-05\n",
      "Epoch 73/100\n",
      "986/986 - 4s - loss: 8.3562e-05\n",
      "Epoch 74/100\n",
      "986/986 - 5s - loss: 8.7511e-05\n",
      "Epoch 75/100\n",
      "986/986 - 4s - loss: 8.3233e-05\n",
      "Epoch 76/100\n",
      "986/986 - 4s - loss: 8.4558e-05\n",
      "Epoch 77/100\n",
      "986/986 - 5s - loss: 8.3038e-05\n",
      "Epoch 78/100\n",
      "986/986 - 5s - loss: 8.3759e-05\n",
      "Epoch 79/100\n",
      "986/986 - 5s - loss: 8.4235e-05\n",
      "Epoch 80/100\n",
      "986/986 - 5s - loss: 8.2869e-05\n",
      "Epoch 81/100\n",
      "986/986 - 5s - loss: 8.0983e-05\n",
      "Epoch 82/100\n",
      "986/986 - 5s - loss: 8.5364e-05\n",
      "Epoch 83/100\n",
      "986/986 - 6s - loss: 8.3948e-05\n",
      "Epoch 84/100\n",
      "986/986 - 5s - loss: 8.2825e-05\n",
      "Epoch 85/100\n",
      "986/986 - 5s - loss: 8.6889e-05\n",
      "Epoch 86/100\n",
      "986/986 - 5s - loss: 8.6644e-05\n",
      "Epoch 87/100\n",
      "986/986 - 5s - loss: 8.3089e-05\n",
      "Epoch 88/100\n",
      "986/986 - 5s - loss: 8.4633e-05\n",
      "Epoch 89/100\n",
      "986/986 - 4s - loss: 8.4277e-05\n",
      "Epoch 90/100\n",
      "986/986 - 5s - loss: 8.4139e-05\n",
      "Epoch 91/100\n",
      "986/986 - 5s - loss: 8.6953e-05\n",
      "Epoch 92/100\n",
      "986/986 - 4s - loss: 8.2918e-05\n",
      "Epoch 93/100\n",
      "986/986 - 4s - loss: 8.3320e-05\n",
      "Epoch 94/100\n",
      "986/986 - 5s - loss: 7.9940e-05\n",
      "Epoch 95/100\n",
      "986/986 - 4s - loss: 8.2999e-05\n",
      "Epoch 96/100\n",
      "986/986 - 4s - loss: 8.3293e-05\n",
      "Epoch 97/100\n",
      "986/986 - 5s - loss: 8.2837e-05\n",
      "Epoch 98/100\n",
      "986/986 - 4s - loss: 8.2413e-05\n",
      "Epoch 99/100\n",
      "986/986 - 4s - loss: 8.2692e-05\n",
      "Epoch 100/100\n",
      "986/986 - 5s - loss: 8.2834e-05\n"
     ]
    },
    {
     "data": {
      "text/plain": [
       "<tensorflow.python.keras.callbacks.History at 0x191a548c6d8>"
      ]
     },
     "execution_count": 23,
     "metadata": {},
     "output_type": "execute_result"
    }
   ],
   "source": [
    "# create and fit the LSTM network\n",
    "model = tf.keras.models.Sequential()\n",
    "model.add(tf.keras.layers.LSTM(7, input_shape=(look_back, 1)))\n",
    "model.add(tf.keras.layers.Dense(1))\n",
    "model.compile(loss='mean_squared_error', optimizer='adam')\n",
    "model.fit(trainX, trainY, epochs=100, batch_size=1, verbose=2)"
   ]
  },
  {
   "cell_type": "markdown",
   "metadata": {},
   "source": [
    "## Making Predictions"
   ]
  },
  {
   "cell_type": "code",
   "execution_count": 24,
   "metadata": {},
   "outputs": [],
   "source": [
    "# making predictions\n",
    "trainPredict = model.predict(trainX)\n",
    "testPredict = model.predict(testX)\n",
    "# invert predictions\n",
    "trainPredict = scaler.inverse_transform(trainPredict)\n",
    "trainY = scaler.inverse_transform([trainY])\n",
    "testPredict = scaler.inverse_transform(testPredict)\n",
    "testY = scaler.inverse_transform([testY])"
   ]
  },
  {
   "cell_type": "code",
   "execution_count": 25,
   "metadata": {},
   "outputs": [
    {
     "data": {
      "image/png": "[encoded data removed]",
      "text/plain": [
       "<Figure size 432x288 with 1 Axes>"
      ]
     },
     "metadata": {
      "needs_background": "light"
     },
     "output_type": "display_data"
    }
   ],
   "source": [
    "trainPredictPlot = np.empty_like(df2)\n",
    "trainPredictPlot[:, :] = np.nan\n",
    "trainPredictPlot[look_back:len(trainPredict)+look_back, :] = trainPredict\n",
    "# shift test predictions for plotting\n",
    "testPredictPlot = np.empty_like(df2)\n",
    "testPredictPlot[:, :] = np.nan\n",
    "testPredictPlot[len(trainPredict)+(look_back*2)+1:len(df2)-1, :] = testPredict\n",
    "# plot baseline and predictions\n",
    "plt.plot(scaler.inverse_transform(df2))\n",
    "plt.plot(testPredictPlot,color='red')\n",
    "plt.title(\"Closing price Prediction\",fontsize=18)\n",
    "plt.xlabel(\"Days\",fontsize=18)\n",
    "plt.ylabel(\"Closing price\",fontsize=18)\n",
    "plt.show()"
   ]
  },
  {
   "cell_type": "code",
   "execution_count": 26,
   "metadata": {},
   "outputs": [
    {
     "name": "stdout",
     "output_type": "stream",
     "text": [
      "Root mean square error =  251.12437678154535  RMSE\n",
      "Root mean square error =  972.1159266307385  RMSE\n"
     ]
    }
   ],
   "source": [
    "# calculate root mean squared error\n",
    "trainScore = math.sqrt(mean_squared_error(trainY[0], trainPredict[:,0]))\n",
    "print(\"Root mean square error = \",trainScore,\" RMSE\")\n",
    "testScore = math.sqrt(mean_squared_error(testY[0], testPredict[:,0]))\n",
    "print(\"Root mean square error = \",testScore,\" RMSE\")"
   ]
  },
  {
   "cell_type": "markdown",
   "metadata": {},
   "source": [
    "# Analyzing News Dataset"
   ]
  },
  {
   "cell_type": "code",
   "execution_count": 27,
   "metadata": {},
   "outputs": [
    {
     "name": "stderr",
     "output_type": "stream",
     "text": [
      "C:\\Users\\500052208\\AppData\\Local\\Continuum\\anaconda3\\lib\\site-packages\\IPython\\core\\interactiveshell.py:3049: DtypeWarning: Columns (0) have mixed types. Specify dtype option on import or set low_memory=False.\n",
      "  interactivity=interactivity, compiler=compiler, result=result)\n"
     ]
    }
   ],
   "source": [
    "columns = ['Date','Category','News']\n",
    "news = pd.read_csv('C:\\\\Users\\\\500052208\\\\anaconda python scripts\\\\india-news-headlines.csv', names = columns)"
   ]
  },
  {
   "cell_type": "code",
   "execution_count": 28,
   "metadata": {},
   "outputs": [
    {
     "name": "stdout",
     "output_type": "stream",
     "text": [
      "<class 'pandas.core.frame.DataFrame'>\n",
      "Int64Index: 3424067 entries, 1 to 3424067\n",
      "Data columns (total 2 columns):\n",
      "Date    object\n",
      "News    object\n",
      "dtypes: object(2)\n",
      "memory usage: 78.4+ MB\n"
     ]
    }
   ],
   "source": [
    "news.head()\n",
    "news.drop(0, inplace=True)\n",
    "news.drop('Category', axis = 1, inplace=True)\n",
    "news.info()"
   ]
  },
  {
   "cell_type": "code",
   "execution_count": 29,
   "metadata": {},
   "outputs": [
    {
     "data": {
      "text/html": [
       "<div>\n",
       "<style scoped>\n",
       "    .dataframe tbody tr th:only-of-type {\n",
       "        vertical-align: middle;\n",
       "    }\n",
       "\n",
       "    .dataframe tbody tr th {\n",
       "        vertical-align: top;\n",
       "    }\n",
       "\n",
       "    .dataframe thead th {\n",
       "        text-align: right;\n",
       "    }\n",
       "</style>\n",
       "<table border=\"1\" class=\"dataframe\">\n",
       "  <thead>\n",
       "    <tr style=\"text-align: right;\">\n",
       "      <th></th>\n",
       "      <th>Date</th>\n",
       "      <th>News</th>\n",
       "    </tr>\n",
       "  </thead>\n",
       "  <tbody>\n",
       "    <tr>\n",
       "      <th>1</th>\n",
       "      <td>2001-01-02</td>\n",
       "      <td>Status quo will not be disturbed at Ayodhya; s...</td>\n",
       "    </tr>\n",
       "    <tr>\n",
       "      <th>2</th>\n",
       "      <td>2001-01-02</td>\n",
       "      <td>Fissures in Hurriyat over Pak visit</td>\n",
       "    </tr>\n",
       "    <tr>\n",
       "      <th>3</th>\n",
       "      <td>2001-01-02</td>\n",
       "      <td>America's unwanted heading for India?</td>\n",
       "    </tr>\n",
       "    <tr>\n",
       "      <th>4</th>\n",
       "      <td>2001-01-02</td>\n",
       "      <td>For bigwigs; it is destination Goa</td>\n",
       "    </tr>\n",
       "    <tr>\n",
       "      <th>5</th>\n",
       "      <td>2001-01-02</td>\n",
       "      <td>Extra buses to clear tourist traffic</td>\n",
       "    </tr>\n",
       "  </tbody>\n",
       "</table>\n",
       "</div>"
      ],
      "text/plain": [
       "        Date                                               News\n",
       "1 2001-01-02  Status quo will not be disturbed at Ayodhya; s...\n",
       "2 2001-01-02                Fissures in Hurriyat over Pak visit\n",
       "3 2001-01-02              America's unwanted heading for India?\n",
       "4 2001-01-02                 For bigwigs; it is destination Goa\n",
       "5 2001-01-02               Extra buses to clear tourist traffic"
      ]
     },
     "execution_count": 29,
     "metadata": {},
     "output_type": "execute_result"
    }
   ],
   "source": [
    "news['Date'] = pd.to_datetime(news['Date'],format= '%Y%m%d')\n",
    "news.head()"
   ]
  },
  {
   "cell_type": "code",
   "execution_count": 30,
   "metadata": {},
   "outputs": [
    {
     "data": {
      "text/html": [
       "<div>\n",
       "<style scoped>\n",
       "    .dataframe tbody tr th:only-of-type {\n",
       "        vertical-align: middle;\n",
       "    }\n",
       "\n",
       "    .dataframe tbody tr th {\n",
       "        vertical-align: top;\n",
       "    }\n",
       "\n",
       "    .dataframe thead th {\n",
       "        text-align: right;\n",
       "    }\n",
       "</style>\n",
       "<table border=\"1\" class=\"dataframe\">\n",
       "  <thead>\n",
       "    <tr style=\"text-align: right;\">\n",
       "      <th></th>\n",
       "      <th>Date</th>\n",
       "      <th>News</th>\n",
       "    </tr>\n",
       "  </thead>\n",
       "  <tbody>\n",
       "    <tr>\n",
       "      <th>0</th>\n",
       "      <td>2001-01-02</td>\n",
       "      <td>Status quo will not be disturbed at Ayodhya; s...</td>\n",
       "    </tr>\n",
       "    <tr>\n",
       "      <th>1</th>\n",
       "      <td>2001-01-03</td>\n",
       "      <td>Powerless north India gropes in the dark Think...</td>\n",
       "    </tr>\n",
       "    <tr>\n",
       "      <th>2</th>\n",
       "      <td>2001-01-04</td>\n",
       "      <td>The string that pulled Stephen Hawking to Indi...</td>\n",
       "    </tr>\n",
       "    <tr>\n",
       "      <th>3</th>\n",
       "      <td>2001-01-05</td>\n",
       "      <td>Light combat craft takes India into club class...</td>\n",
       "    </tr>\n",
       "    <tr>\n",
       "      <th>4</th>\n",
       "      <td>2001-01-06</td>\n",
       "      <td>Light combat craft takes India into club class...</td>\n",
       "    </tr>\n",
       "  </tbody>\n",
       "</table>\n",
       "</div>"
      ],
      "text/plain": [
       "        Date                                               News\n",
       "0 2001-01-02  Status quo will not be disturbed at Ayodhya; s...\n",
       "1 2001-01-03  Powerless north India gropes in the dark Think...\n",
       "2 2001-01-04  The string that pulled Stephen Hawking to Indi...\n",
       "3 2001-01-05  Light combat craft takes India into club class...\n",
       "4 2001-01-06  Light combat craft takes India into club class..."
      ]
     },
     "execution_count": 30,
     "metadata": {},
     "output_type": "execute_result"
    }
   ],
   "source": [
    "#Grouping the headlines for each day\n",
    "news['News'] = news.groupby(['Date']).transform(lambda x : ' '.join(x)) \n",
    "news = news.drop_duplicates() \n",
    "news.reset_index(inplace = True, drop = True)\n",
    "news.head()"
   ]
  },
  {
   "cell_type": "code",
   "execution_count": 31,
   "metadata": {},
   "outputs": [
    {
     "data": {
      "text/plain": [
       "0       Status quo will not be disturbed at Ayodhya; s...\n",
       "1       Powerless north India gropes in the dark Think...\n",
       "2       The string that pulled Stephen Hawking to Indi...\n",
       "3       Light combat craft takes India into club class...\n",
       "4       Light combat craft takes India into club class...\n",
       "5       Muslim body rules out talks on Ayodhya Bajrang...\n",
       "6       Sangh Parivar; Babri panel up the ante Frontru...\n",
       "7       Financier Bharat Shah held for alleged links w...\n",
       "8       Fend for yourselves; Pande tells doctors Burea...\n",
       "9       Sonia takes on the Hindutva brigade Congress h...\n",
       "10      Govt extends J&K ceasefire by a month Peace hi...\n",
       "11      Big bath passes without a hitch Security bando...\n",
       "12      President against pitch for indirect polls TRA...\n",
       "13      Monster quake kills 4;000 Forces to the rescue...\n",
       "14      Death; distress; destruction...and it's not ov...\n",
       "15      More tremors forecast for the next 48 hours Th...\n",
       "16      Hrithik: Miss Indias' delight! Manoj Bajpai: F...\n",
       "17      Relief operations take back seat in Bhuj Ferna...\n",
       "18      Army cordons off Anjar; says it's a mass grave...\n",
       "19      Gujarat govt yet to get its act together Pak r...\n",
       "20      First the quake; then the flood Vajpayee; Mush...\n",
       "21      Govt to set up national disaster management pa...\n",
       "22      Official toll put at 16;435; Kutch's share 14;...\n",
       "23      PMK withdraws support; but govt safe Economic ...\n",
       "24      Tobacco firms ordered off the field Consumer c...\n",
       "25      Clear debris; start rebuilding: Centre to Guja...\n",
       "26      Copter crash brings VIP sorties under fire CAT...\n",
       "27      A new river runs through Gujarat Is there a se...\n",
       "28      Militants massacre 15 villagers in Rajouri Is ...\n",
       "29      J&K militants step up heat; use ceasefire to r...\n",
       "                              ...                        \n",
       "7232    Sherlyn Chopra shows off her culinary skills M...\n",
       "7233    HC backs transgenders in NCC; admonishes Centr...\n",
       "7234    Bhumi Pednekar's ivory lehenga is perfect for ...\n",
       "7235    Horoscope Today; 05 December 2020: Check astro...\n",
       "7236    Weekly Horoscope; 06 to 12 December 2020: Chec...\n",
       "7237    Horoscope Today; 07 December 2020: Check astro...\n",
       "7238    All highway projects to be ready by June next ...\n",
       "7239    Tushar Dalvi: We're experts at live performanc...\n",
       "7240    Gold imports plunge; demand dips Horoscope Tod...\n",
       "7241    Ways to get you in the mood for sex when you'r...\n",
       "7242    Horoscope Today; 12 December 2020: Check astro...\n",
       "7243    Numerology Reading - 13 December 2020: Predict...\n",
       "7244    No threat from Covid claims to balance sheets ...\n",
       "7245    1;147 RT-PCR tests in a day; only 3 found +ve ...\n",
       "7246    Asmita Sood's favourite holiday destinations a...\n",
       "7247    Horoscope Today; 17 December 2020: Check astro...\n",
       "7248    Cops; panch witnesses sniffed suspects' mouths...\n",
       "7249    Rally champion only crowned if half WRC season...\n",
       "7250    Weekly Horoscope; 20 to 26 December 2020: Chec...\n",
       "7251    Horoscope Today; 21 December 2020: Check astro...\n",
       "7252    Addite and Mohit Malik: We are looking forward...\n",
       "7253    Sawmill in Makarpura GIDC gutted; none hurt Ci...\n",
       "7254    How to set the mood for sex during cold winter...\n",
       "7255    merry christmas quotes messages wishes 10 reli...\n",
       "7256    Numerology Readings 26 December 2020: Predicti...\n",
       "7257    #BigInterview! Dhritiman Chatterjee: Nobody da...\n",
       "7258    Horoscope Today; 28 December 2020: Check astro...\n",
       "7259    Man recovers charred remains of 'thief' from h...\n",
       "7260    Numerology Readings 30 December 2020: Predicti...\n",
       "7261    Horoscope Today; 31 December 2020: Check astro...\n",
       "Name: News, Length: 7262, dtype: object"
      ]
     },
     "execution_count": 31,
     "metadata": {},
     "output_type": "execute_result"
    }
   ],
   "source": [
    "news['News']"
   ]
  },
  {
   "cell_type": "code",
   "execution_count": 32,
   "metadata": {},
   "outputs": [
    {
     "name": "stderr",
     "output_type": "stream",
     "text": [
      "[nltk_data] Downloading package stopwords to\n",
      "[nltk_data]     C:\\Users\\500052208\\AppData\\Roaming\\nltk_data...\n",
      "[nltk_data]   Package stopwords is already up-to-date!\n",
      "[nltk_data] Downloading package vader_lexicon to\n",
      "[nltk_data]     C:\\Users\\500052208\\AppData\\Roaming\\nltk_data...\n",
      "[nltk_data]   Package vader_lexicon is already up-to-date!\n"
     ]
    }
   ],
   "source": [
    "import nltk\n",
    "import re\n",
    "from nltk.corpus import stopwords\n",
    "nltk.download('stopwords')\n",
    "nltk.download('vader_lexicon')\n",
    "from textblob import TextBlob\n",
    "from nltk.sentiment.vader import SentimentIntensityAnalyzer\n",
    "from sklearn.ensemble import RandomForestRegressor, AdaBoostRegressor\n",
    "import xgboost"
   ]
  },
  {
   "cell_type": "code",
   "execution_count": 33,
   "metadata": {},
   "outputs": [],
   "source": [
    "#Functions to get the subjectivity and polarity\n",
    "def getSubjectivity(text):\n",
    "    return TextBlob(text).sentiment.subjectivity\n",
    "\n",
    "def getPolarity(text):\n",
    "    return  TextBlob(text).sentiment.polarity"
   ]
  },
  {
   "cell_type": "code",
   "execution_count": 34,
   "metadata": {},
   "outputs": [
    {
     "data": {
      "text/html": [
       "<div>\n",
       "<style scoped>\n",
       "    .dataframe tbody tr th:only-of-type {\n",
       "        vertical-align: middle;\n",
       "    }\n",
       "\n",
       "    .dataframe tbody tr th {\n",
       "        vertical-align: top;\n",
       "    }\n",
       "\n",
       "    .dataframe thead th {\n",
       "        text-align: right;\n",
       "    }\n",
       "</style>\n",
       "<table border=\"1\" class=\"dataframe\">\n",
       "  <thead>\n",
       "    <tr style=\"text-align: right;\">\n",
       "      <th></th>\n",
       "      <th>Date</th>\n",
       "      <th>News</th>\n",
       "      <th>Subjectivity</th>\n",
       "      <th>Polarity</th>\n",
       "    </tr>\n",
       "  </thead>\n",
       "  <tbody>\n",
       "    <tr>\n",
       "      <th>0</th>\n",
       "      <td>2001-01-02</td>\n",
       "      <td>Status quo will not be disturbed at Ayodhya; s...</td>\n",
       "      <td>0.282333</td>\n",
       "      <td>0.151333</td>\n",
       "    </tr>\n",
       "    <tr>\n",
       "      <th>1</th>\n",
       "      <td>2001-01-03</td>\n",
       "      <td>Powerless north India gropes in the dark Think...</td>\n",
       "      <td>0.407692</td>\n",
       "      <td>0.088462</td>\n",
       "    </tr>\n",
       "    <tr>\n",
       "      <th>2</th>\n",
       "      <td>2001-01-04</td>\n",
       "      <td>The string that pulled Stephen Hawking to Indi...</td>\n",
       "      <td>0.446847</td>\n",
       "      <td>0.087961</td>\n",
       "    </tr>\n",
       "    <tr>\n",
       "      <th>3</th>\n",
       "      <td>2001-01-05</td>\n",
       "      <td>Light combat craft takes India into club class...</td>\n",
       "      <td>0.476612</td>\n",
       "      <td>0.262024</td>\n",
       "    </tr>\n",
       "    <tr>\n",
       "      <th>4</th>\n",
       "      <td>2001-01-06</td>\n",
       "      <td>Light combat craft takes India into club class...</td>\n",
       "      <td>0.439394</td>\n",
       "      <td>0.248485</td>\n",
       "    </tr>\n",
       "  </tbody>\n",
       "</table>\n",
       "</div>"
      ],
      "text/plain": [
       "        Date                                               News  Subjectivity  \\\n",
       "0 2001-01-02  Status quo will not be disturbed at Ayodhya; s...      0.282333   \n",
       "1 2001-01-03  Powerless north India gropes in the dark Think...      0.407692   \n",
       "2 2001-01-04  The string that pulled Stephen Hawking to Indi...      0.446847   \n",
       "3 2001-01-05  Light combat craft takes India into club class...      0.476612   \n",
       "4 2001-01-06  Light combat craft takes India into club class...      0.439394   \n",
       "\n",
       "   Polarity  \n",
       "0  0.151333  \n",
       "1  0.088462  \n",
       "2  0.087961  \n",
       "3  0.262024  \n",
       "4  0.248485  "
      ]
     },
     "execution_count": 34,
     "metadata": {},
     "output_type": "execute_result"
    }
   ],
   "source": [
    "#Adding subjectivity and polarity columns\n",
    "news['Subjectivity'] = news['News'].apply(getSubjectivity)\n",
    "news['Polarity'] = news['News'].apply(getPolarity)\n",
    "news.head()"
   ]
  },
  {
   "cell_type": "code",
   "execution_count": 35,
   "metadata": {},
   "outputs": [
    {
     "data": {
      "text/plain": [
       "<matplotlib.axes._subplots.AxesSubplot at 0x191a97d62e8>"
      ]
     },
     "execution_count": 35,
     "metadata": {},
     "output_type": "execute_result"
    },
    {
     "data": {
      "image/png": "[encoded data removed]",
      "text/plain": [
       "<Figure size 720x432 with 1 Axes>"
      ]
     },
     "metadata": {
      "needs_background": "light"
     },
     "output_type": "display_data"
    }
   ],
   "source": [
    "plt.figure(figsize = (10,6))\n",
    "news['Polarity'].hist(color = 'red')"
   ]
  },
  {
   "cell_type": "code",
   "execution_count": 36,
   "metadata": {},
   "outputs": [
    {
     "data": {
      "text/plain": [
       "<matplotlib.axes._subplots.AxesSubplot at 0x191a97d6780>"
      ]
     },
     "execution_count": 36,
     "metadata": {},
     "output_type": "execute_result"
    },
    {
     "data": {
      "image/png": "[encoded data removed]",
      "text/plain": [
       "<Figure size 720x432 with 1 Axes>"
      ]
     },
     "metadata": {
      "needs_background": "light"
     },
     "output_type": "display_data"
    }
   ],
   "source": [
    "plt.figure(figsize = (10,6))\n",
    "news['Subjectivity'].hist(color = 'green')"
   ]
  },
  {
   "cell_type": "code",
   "execution_count": 39,
   "metadata": {},
   "outputs": [
    {
     "data": {
      "text/html": [
       "<div>\n",
       "<style scoped>\n",
       "    .dataframe tbody tr th:only-of-type {\n",
       "        vertical-align: middle;\n",
       "    }\n",
       "\n",
       "    .dataframe tbody tr th {\n",
       "        vertical-align: top;\n",
       "    }\n",
       "\n",
       "    .dataframe thead th {\n",
       "        text-align: right;\n",
       "    }\n",
       "</style>\n",
       "<table border=\"1\" class=\"dataframe\">\n",
       "  <thead>\n",
       "    <tr style=\"text-align: right;\">\n",
       "      <th></th>\n",
       "      <th>Date</th>\n",
       "      <th>News</th>\n",
       "      <th>Subjectivity</th>\n",
       "      <th>Polarity</th>\n",
       "      <th>Compound</th>\n",
       "      <th>Negative</th>\n",
       "      <th>Neutral</th>\n",
       "      <th>Positive</th>\n",
       "    </tr>\n",
       "  </thead>\n",
       "  <tbody>\n",
       "    <tr>\n",
       "      <th>0</th>\n",
       "      <td>2001-01-02</td>\n",
       "      <td>Status quo will not be disturbed at Ayodhya; s...</td>\n",
       "      <td>0.282333</td>\n",
       "      <td>0.151333</td>\n",
       "      <td>-0.9811</td>\n",
       "      <td>0.122</td>\n",
       "      <td>0.807</td>\n",
       "      <td>0.071</td>\n",
       "    </tr>\n",
       "    <tr>\n",
       "      <th>1</th>\n",
       "      <td>2001-01-03</td>\n",
       "      <td>Powerless north India gropes in the dark Think...</td>\n",
       "      <td>0.407692</td>\n",
       "      <td>0.088462</td>\n",
       "      <td>-0.2640</td>\n",
       "      <td>0.122</td>\n",
       "      <td>0.766</td>\n",
       "      <td>0.111</td>\n",
       "    </tr>\n",
       "    <tr>\n",
       "      <th>2</th>\n",
       "      <td>2001-01-04</td>\n",
       "      <td>The string that pulled Stephen Hawking to Indi...</td>\n",
       "      <td>0.446847</td>\n",
       "      <td>0.087961</td>\n",
       "      <td>0.8738</td>\n",
       "      <td>0.100</td>\n",
       "      <td>0.797</td>\n",
       "      <td>0.103</td>\n",
       "    </tr>\n",
       "    <tr>\n",
       "      <th>3</th>\n",
       "      <td>2001-01-05</td>\n",
       "      <td>Light combat craft takes India into club class...</td>\n",
       "      <td>0.476612</td>\n",
       "      <td>0.262024</td>\n",
       "      <td>0.9633</td>\n",
       "      <td>0.124</td>\n",
       "      <td>0.722</td>\n",
       "      <td>0.154</td>\n",
       "    </tr>\n",
       "    <tr>\n",
       "      <th>4</th>\n",
       "      <td>2001-01-06</td>\n",
       "      <td>Light combat craft takes India into club class...</td>\n",
       "      <td>0.439394</td>\n",
       "      <td>0.248485</td>\n",
       "      <td>-0.4215</td>\n",
       "      <td>0.152</td>\n",
       "      <td>0.704</td>\n",
       "      <td>0.143</td>\n",
       "    </tr>\n",
       "  </tbody>\n",
       "</table>\n",
       "</div>"
      ],
      "text/plain": [
       "        Date                                               News  Subjectivity  \\\n",
       "0 2001-01-02  Status quo will not be disturbed at Ayodhya; s...      0.282333   \n",
       "1 2001-01-03  Powerless north India gropes in the dark Think...      0.407692   \n",
       "2 2001-01-04  The string that pulled Stephen Hawking to Indi...      0.446847   \n",
       "3 2001-01-05  Light combat craft takes India into club class...      0.476612   \n",
       "4 2001-01-06  Light combat craft takes India into club class...      0.439394   \n",
       "\n",
       "   Polarity  Compound  Negative  Neutral  Positive  \n",
       "0  0.151333   -0.9811     0.122    0.807     0.071  \n",
       "1  0.088462   -0.2640     0.122    0.766     0.111  \n",
       "2  0.087961    0.8738     0.100    0.797     0.103  \n",
       "3  0.262024    0.9633     0.124    0.722     0.154  \n",
       "4  0.248485   -0.4215     0.152    0.704     0.143  "
      ]
     },
     "execution_count": 39,
     "metadata": {},
     "output_type": "execute_result"
    }
   ],
   "source": [
    "#Adding sentiment score to news\n",
    "sia = SentimentIntensityAnalyzer()\n",
    "\n",
    "news['Compound'] = [sia.polarity_scores(v)['compound'] for v in news['News']]\n",
    "news['Negative'] = [sia.polarity_scores(v)['neg'] for v in news['News']]\n",
    "news['Neutral'] = [sia.polarity_scores(v)['neu'] for v in news['News']]\n",
    "news['Positive'] = [sia.polarity_scores(v)['pos'] for v in news['News']]\n",
    "news.head()"
   ]
  },
  {
   "cell_type": "code",
   "execution_count": 40,
   "metadata": {},
   "outputs": [
    {
     "data": {
      "text/html": [
       "<div>\n",
       "<style scoped>\n",
       "    .dataframe tbody tr th:only-of-type {\n",
       "        vertical-align: middle;\n",
       "    }\n",
       "\n",
       "    .dataframe tbody tr th {\n",
       "        vertical-align: top;\n",
       "    }\n",
       "\n",
       "    .dataframe thead th {\n",
       "        text-align: right;\n",
       "    }\n",
       "</style>\n",
       "<table border=\"1\" class=\"dataframe\">\n",
       "  <thead>\n",
       "    <tr style=\"text-align: right;\">\n",
       "      <th></th>\n",
       "      <th>Date</th>\n",
       "      <th>News</th>\n",
       "      <th>Subjectivity</th>\n",
       "      <th>Polarity</th>\n",
       "      <th>Compound</th>\n",
       "      <th>Negative</th>\n",
       "      <th>Neutral</th>\n",
       "      <th>Positive</th>\n",
       "    </tr>\n",
       "  </thead>\n",
       "  <tbody>\n",
       "    <tr>\n",
       "      <th>0</th>\n",
       "      <td>2001-01-02</td>\n",
       "      <td>Status quo will not be disturbed at Ayodhya; s...</td>\n",
       "      <td>0.282333</td>\n",
       "      <td>0.151333</td>\n",
       "      <td>-0.9811</td>\n",
       "      <td>0.122</td>\n",
       "      <td>0.807</td>\n",
       "      <td>0.071</td>\n",
       "    </tr>\n",
       "    <tr>\n",
       "      <th>1</th>\n",
       "      <td>2001-01-03</td>\n",
       "      <td>Powerless north India gropes in the dark Think...</td>\n",
       "      <td>0.407692</td>\n",
       "      <td>0.088462</td>\n",
       "      <td>-0.2640</td>\n",
       "      <td>0.122</td>\n",
       "      <td>0.766</td>\n",
       "      <td>0.111</td>\n",
       "    </tr>\n",
       "    <tr>\n",
       "      <th>2</th>\n",
       "      <td>2001-01-04</td>\n",
       "      <td>The string that pulled Stephen Hawking to Indi...</td>\n",
       "      <td>0.446847</td>\n",
       "      <td>0.087961</td>\n",
       "      <td>0.8738</td>\n",
       "      <td>0.100</td>\n",
       "      <td>0.797</td>\n",
       "      <td>0.103</td>\n",
       "    </tr>\n",
       "    <tr>\n",
       "      <th>3</th>\n",
       "      <td>2001-01-05</td>\n",
       "      <td>Light combat craft takes India into club class...</td>\n",
       "      <td>0.476612</td>\n",
       "      <td>0.262024</td>\n",
       "      <td>0.9633</td>\n",
       "      <td>0.124</td>\n",
       "      <td>0.722</td>\n",
       "      <td>0.154</td>\n",
       "    </tr>\n",
       "    <tr>\n",
       "      <th>4</th>\n",
       "      <td>2001-01-06</td>\n",
       "      <td>Light combat craft takes India into club class...</td>\n",
       "      <td>0.439394</td>\n",
       "      <td>0.248485</td>\n",
       "      <td>-0.4215</td>\n",
       "      <td>0.152</td>\n",
       "      <td>0.704</td>\n",
       "      <td>0.143</td>\n",
       "    </tr>\n",
       "  </tbody>\n",
       "</table>\n",
       "</div>"
      ],
      "text/plain": [
       "        Date                                               News  Subjectivity  \\\n",
       "0 2001-01-02  Status quo will not be disturbed at Ayodhya; s...      0.282333   \n",
       "1 2001-01-03  Powerless north India gropes in the dark Think...      0.407692   \n",
       "2 2001-01-04  The string that pulled Stephen Hawking to Indi...      0.446847   \n",
       "3 2001-01-05  Light combat craft takes India into club class...      0.476612   \n",
       "4 2001-01-06  Light combat craft takes India into club class...      0.439394   \n",
       "\n",
       "   Polarity  Compound  Negative  Neutral  Positive  \n",
       "0  0.151333   -0.9811     0.122    0.807     0.071  \n",
       "1  0.088462   -0.2640     0.122    0.766     0.111  \n",
       "2  0.087961    0.8738     0.100    0.797     0.103  \n",
       "3  0.262024    0.9633     0.124    0.722     0.154  \n",
       "4  0.248485   -0.4215     0.152    0.704     0.143  "
      ]
     },
     "execution_count": 40,
     "metadata": {},
     "output_type": "execute_result"
    }
   ],
   "source": [
    "merge = news\n",
    "merge.head()"
   ]
  },
  {
   "cell_type": "code",
   "execution_count": 41,
   "metadata": {},
   "outputs": [
    {
     "data": {
      "text/html": [
       "<div>\n",
       "<style scoped>\n",
       "    .dataframe tbody tr th:only-of-type {\n",
       "        vertical-align: middle;\n",
       "    }\n",
       "\n",
       "    .dataframe tbody tr th {\n",
       "        vertical-align: top;\n",
       "    }\n",
       "\n",
       "    .dataframe thead th {\n",
       "        text-align: right;\n",
       "    }\n",
       "</style>\n",
       "<table border=\"1\" class=\"dataframe\">\n",
       "  <thead>\n",
       "    <tr style=\"text-align: right;\">\n",
       "      <th></th>\n",
       "      <th>Subjectivity</th>\n",
       "      <th>Polarity</th>\n",
       "      <th>Compound</th>\n",
       "      <th>Negative</th>\n",
       "      <th>Neutral</th>\n",
       "      <th>Positive</th>\n",
       "    </tr>\n",
       "  </thead>\n",
       "  <tbody>\n",
       "    <tr>\n",
       "      <th>0</th>\n",
       "      <td>0.282333</td>\n",
       "      <td>0.151333</td>\n",
       "      <td>-0.9811</td>\n",
       "      <td>0.122</td>\n",
       "      <td>0.807</td>\n",
       "      <td>0.071</td>\n",
       "    </tr>\n",
       "    <tr>\n",
       "      <th>1</th>\n",
       "      <td>0.407692</td>\n",
       "      <td>0.088462</td>\n",
       "      <td>-0.2640</td>\n",
       "      <td>0.122</td>\n",
       "      <td>0.766</td>\n",
       "      <td>0.111</td>\n",
       "    </tr>\n",
       "    <tr>\n",
       "      <th>2</th>\n",
       "      <td>0.446847</td>\n",
       "      <td>0.087961</td>\n",
       "      <td>0.8738</td>\n",
       "      <td>0.100</td>\n",
       "      <td>0.797</td>\n",
       "      <td>0.103</td>\n",
       "    </tr>\n",
       "    <tr>\n",
       "      <th>3</th>\n",
       "      <td>0.476612</td>\n",
       "      <td>0.262024</td>\n",
       "      <td>0.9633</td>\n",
       "      <td>0.124</td>\n",
       "      <td>0.722</td>\n",
       "      <td>0.154</td>\n",
       "    </tr>\n",
       "    <tr>\n",
       "      <th>4</th>\n",
       "      <td>0.439394</td>\n",
       "      <td>0.248485</td>\n",
       "      <td>-0.4215</td>\n",
       "      <td>0.152</td>\n",
       "      <td>0.704</td>\n",
       "      <td>0.143</td>\n",
       "    </tr>\n",
       "  </tbody>\n",
       "</table>\n",
       "</div>"
      ],
      "text/plain": [
       "   Subjectivity  Polarity  Compound  Negative  Neutral  Positive\n",
       "0      0.282333  0.151333   -0.9811     0.122    0.807     0.071\n",
       "1      0.407692  0.088462   -0.2640     0.122    0.766     0.111\n",
       "2      0.446847  0.087961    0.8738     0.100    0.797     0.103\n",
       "3      0.476612  0.262024    0.9633     0.124    0.722     0.154\n",
       "4      0.439394  0.248485   -0.4215     0.152    0.704     0.143"
      ]
     },
     "execution_count": 41,
     "metadata": {},
     "output_type": "execute_result"
    }
   ],
   "source": [
    "dff = merge[['Subjectivity', 'Polarity', 'Compound', 'Negative', 'Neutral' ,'Positive']]\n",
    "dff.head()"
   ]
  },
  {
   "cell_type": "code",
   "execution_count": 42,
   "metadata": {},
   "outputs": [
    {
     "data": {
      "text/html": [
       "<div>\n",
       "<style scoped>\n",
       "    .dataframe tbody tr th:only-of-type {\n",
       "        vertical-align: middle;\n",
       "    }\n",
       "\n",
       "    .dataframe tbody tr th {\n",
       "        vertical-align: top;\n",
       "    }\n",
       "\n",
       "    .dataframe thead th {\n",
       "        text-align: right;\n",
       "    }\n",
       "</style>\n",
       "<table border=\"1\" class=\"dataframe\">\n",
       "  <thead>\n",
       "    <tr style=\"text-align: right;\">\n",
       "      <th></th>\n",
       "      <th>Subjectivity</th>\n",
       "      <th>Polarity</th>\n",
       "      <th>Compound</th>\n",
       "      <th>Negative</th>\n",
       "      <th>Neutral</th>\n",
       "      <th>Positive</th>\n",
       "    </tr>\n",
       "  </thead>\n",
       "  <tbody>\n",
       "    <tr>\n",
       "      <th>0</th>\n",
       "      <td>0.282333</td>\n",
       "      <td>0.427407</td>\n",
       "      <td>0.00945</td>\n",
       "      <td>0.274775</td>\n",
       "      <td>0.807</td>\n",
       "      <td>0.116776</td>\n",
       "    </tr>\n",
       "    <tr>\n",
       "      <th>1</th>\n",
       "      <td>0.407692</td>\n",
       "      <td>0.357550</td>\n",
       "      <td>0.36800</td>\n",
       "      <td>0.274775</td>\n",
       "      <td>0.766</td>\n",
       "      <td>0.182566</td>\n",
       "    </tr>\n",
       "    <tr>\n",
       "      <th>2</th>\n",
       "      <td>0.446847</td>\n",
       "      <td>0.356994</td>\n",
       "      <td>0.93690</td>\n",
       "      <td>0.225225</td>\n",
       "      <td>0.797</td>\n",
       "      <td>0.169408</td>\n",
       "    </tr>\n",
       "    <tr>\n",
       "      <th>3</th>\n",
       "      <td>0.476612</td>\n",
       "      <td>0.550397</td>\n",
       "      <td>0.98165</td>\n",
       "      <td>0.279279</td>\n",
       "      <td>0.722</td>\n",
       "      <td>0.253289</td>\n",
       "    </tr>\n",
       "    <tr>\n",
       "      <th>4</th>\n",
       "      <td>0.439394</td>\n",
       "      <td>0.535354</td>\n",
       "      <td>0.28925</td>\n",
       "      <td>0.342342</td>\n",
       "      <td>0.704</td>\n",
       "      <td>0.235197</td>\n",
       "    </tr>\n",
       "  </tbody>\n",
       "</table>\n",
       "</div>"
      ],
      "text/plain": [
       "   Subjectivity  Polarity  Compound  Negative  Neutral  Positive\n",
       "0      0.282333  0.427407   0.00945  0.274775    0.807  0.116776\n",
       "1      0.407692  0.357550   0.36800  0.274775    0.766  0.182566\n",
       "2      0.446847  0.356994   0.93690  0.225225    0.797  0.169408\n",
       "3      0.476612  0.550397   0.98165  0.279279    0.722  0.253289\n",
       "4      0.439394  0.535354   0.28925  0.342342    0.704  0.235197"
      ]
     },
     "execution_count": 42,
     "metadata": {},
     "output_type": "execute_result"
    }
   ],
   "source": [
    "from sklearn.preprocessing import MinMaxScaler\n",
    "sc = MinMaxScaler()\n",
    "new_df = pd.DataFrame(sc.fit_transform(dff))\n",
    "new_df.columns = dff.columns\n",
    "new_df.index = dff.index\n",
    "new_df.head()"
   ]
  },
  {
   "cell_type": "code",
   "execution_count": 54,
   "metadata": {},
   "outputs": [
    {
     "data": {
      "text/plain": [
       "0    26523.089844\n",
       "1    26481.250000\n",
       "2    26840.500000\n",
       "3    26370.980469\n",
       "4    26425.300781\n",
       "Name: Close, dtype: float64"
      ]
     },
     "execution_count": 54,
     "metadata": {},
     "output_type": "execute_result"
    }
   ],
   "source": [
    "X = new_df[0:1479]\n",
    "y =stock['Close']\n",
    "y.head()"
   ]
  },
  {
   "cell_type": "code",
   "execution_count": 55,
   "metadata": {},
   "outputs": [
    {
     "data": {
      "text/plain": [
       "(1183, 6)"
      ]
     },
     "execution_count": 55,
     "metadata": {},
     "output_type": "execute_result"
    }
   ],
   "source": [
    "from sklearn.model_selection import train_test_split\n",
    "\n",
    "x_train, x_test,y_train, y_test = train_test_split(X, y,test_size=0.2,random_state=0)\n",
    "x_train.shape"
   ]
  },
  {
   "cell_type": "code",
   "execution_count": 56,
   "metadata": {},
   "outputs": [
    {
     "data": {
      "text/html": [
       "<div>\n",
       "<style scoped>\n",
       "    .dataframe tbody tr th:only-of-type {\n",
       "        vertical-align: middle;\n",
       "    }\n",
       "\n",
       "    .dataframe tbody tr th {\n",
       "        vertical-align: top;\n",
       "    }\n",
       "\n",
       "    .dataframe thead th {\n",
       "        text-align: right;\n",
       "    }\n",
       "</style>\n",
       "<table border=\"1\" class=\"dataframe\">\n",
       "  <thead>\n",
       "    <tr style=\"text-align: right;\">\n",
       "      <th></th>\n",
       "      <th>Subjectivity</th>\n",
       "      <th>Polarity</th>\n",
       "      <th>Compound</th>\n",
       "      <th>Negative</th>\n",
       "      <th>Neutral</th>\n",
       "      <th>Positive</th>\n",
       "    </tr>\n",
       "  </thead>\n",
       "  <tbody>\n",
       "    <tr>\n",
       "      <th>632</th>\n",
       "      <td>0.392424</td>\n",
       "      <td>0.347819</td>\n",
       "      <td>0.00260</td>\n",
       "      <td>0.277027</td>\n",
       "      <td>0.776</td>\n",
       "      <td>0.166118</td>\n",
       "    </tr>\n",
       "    <tr>\n",
       "      <th>317</th>\n",
       "      <td>0.384279</td>\n",
       "      <td>0.300876</td>\n",
       "      <td>0.00055</td>\n",
       "      <td>0.342342</td>\n",
       "      <td>0.747</td>\n",
       "      <td>0.166118</td>\n",
       "    </tr>\n",
       "    <tr>\n",
       "      <th>1125</th>\n",
       "      <td>0.371321</td>\n",
       "      <td>0.392978</td>\n",
       "      <td>0.00455</td>\n",
       "      <td>0.299550</td>\n",
       "      <td>0.774</td>\n",
       "      <td>0.152961</td>\n",
       "    </tr>\n",
       "    <tr>\n",
       "      <th>58</th>\n",
       "      <td>0.430000</td>\n",
       "      <td>0.358642</td>\n",
       "      <td>0.01710</td>\n",
       "      <td>0.355856</td>\n",
       "      <td>0.769</td>\n",
       "      <td>0.121711</td>\n",
       "    </tr>\n",
       "    <tr>\n",
       "      <th>241</th>\n",
       "      <td>0.418921</td>\n",
       "      <td>0.246986</td>\n",
       "      <td>0.00030</td>\n",
       "      <td>0.427928</td>\n",
       "      <td>0.742</td>\n",
       "      <td>0.111842</td>\n",
       "    </tr>\n",
       "    <tr>\n",
       "      <th>467</th>\n",
       "      <td>0.426120</td>\n",
       "      <td>0.348298</td>\n",
       "      <td>0.00330</td>\n",
       "      <td>0.234234</td>\n",
       "      <td>0.817</td>\n",
       "      <td>0.129934</td>\n",
       "    </tr>\n",
       "    <tr>\n",
       "      <th>1099</th>\n",
       "      <td>0.474415</td>\n",
       "      <td>0.221673</td>\n",
       "      <td>0.00120</td>\n",
       "      <td>0.371622</td>\n",
       "      <td>0.731</td>\n",
       "      <td>0.171053</td>\n",
       "    </tr>\n",
       "    <tr>\n",
       "      <th>1113</th>\n",
       "      <td>0.443797</td>\n",
       "      <td>0.317398</td>\n",
       "      <td>0.00415</td>\n",
       "      <td>0.243243</td>\n",
       "      <td>0.819</td>\n",
       "      <td>0.120066</td>\n",
       "    </tr>\n",
       "    <tr>\n",
       "      <th>1471</th>\n",
       "      <td>0.375895</td>\n",
       "      <td>0.379199</td>\n",
       "      <td>0.80730</td>\n",
       "      <td>0.315315</td>\n",
       "      <td>0.712</td>\n",
       "      <td>0.243421</td>\n",
       "    </tr>\n",
       "    <tr>\n",
       "      <th>56</th>\n",
       "      <td>0.520713</td>\n",
       "      <td>0.337221</td>\n",
       "      <td>0.07910</td>\n",
       "      <td>0.299550</td>\n",
       "      <td>0.764</td>\n",
       "      <td>0.169408</td>\n",
       "    </tr>\n",
       "  </tbody>\n",
       "</table>\n",
       "</div>"
      ],
      "text/plain": [
       "      Subjectivity  Polarity  Compound  Negative  Neutral  Positive\n",
       "632       0.392424  0.347819   0.00260  0.277027    0.776  0.166118\n",
       "317       0.384279  0.300876   0.00055  0.342342    0.747  0.166118\n",
       "1125      0.371321  0.392978   0.00455  0.299550    0.774  0.152961\n",
       "58        0.430000  0.358642   0.01710  0.355856    0.769  0.121711\n",
       "241       0.418921  0.246986   0.00030  0.427928    0.742  0.111842\n",
       "467       0.426120  0.348298   0.00330  0.234234    0.817  0.129934\n",
       "1099      0.474415  0.221673   0.00120  0.371622    0.731  0.171053\n",
       "1113      0.443797  0.317398   0.00415  0.243243    0.819  0.120066\n",
       "1471      0.375895  0.379199   0.80730  0.315315    0.712  0.243421\n",
       "56        0.520713  0.337221   0.07910  0.299550    0.764  0.169408"
      ]
     },
     "execution_count": 56,
     "metadata": {},
     "output_type": "execute_result"
    }
   ],
   "source": [
    "x_train[:10]"
   ]
  },
  {
   "cell_type": "code",
   "execution_count": 57,
   "metadata": {},
   "outputs": [],
   "source": [
    "rf = RandomForestRegressor()\n",
    "rf.fit(x_train, y_train)\n",
    "prediction=rf.predict(x_test)"
   ]
  },
  {
   "cell_type": "code",
   "execution_count": 58,
   "metadata": {},
   "outputs": [
    {
     "name": "stdout",
     "output_type": "stream",
     "text": [
      "[29653.208125   34123.92439453 42180.27542969 36919.65535156\n",
      " 34232.25871094 38739.70484375 29033.83412109 26268.79523438\n",
      " 30306.23804688 30233.09085937]\n",
      "567     31626.630859\n",
      "1041    37332.789062\n",
      "649     35798.011719\n",
      "666     34010.761719\n",
      "568     31599.759766\n",
      "443     29237.150391\n",
      "175     23788.789062\n",
      "9       27316.169922\n",
      "227     25790.220703\n",
      "771     36351.230469\n",
      "Name: Close, dtype: float64\n",
      "Root mean square error =  6318.571056454534  RMSE\n"
     ]
    }
   ],
   "source": [
    "print(prediction[:10])\n",
    "print(y_test[:10])\n",
    "print(\"Root mean square error = \",math.sqrt(mean_squared_error(prediction,y_test)),\" RMSE\")"
   ]
  },
  {
   "cell_type": "code",
   "execution_count": 59,
   "metadata": {},
   "outputs": [],
   "source": [
    "adb = AdaBoostRegressor()\n",
    "adb.fit(x_train, y_train)\n",
    "predictions = adb.predict(x_test)"
   ]
  },
  {
   "cell_type": "code",
   "execution_count": 60,
   "metadata": {},
   "outputs": [
    {
     "name": "stdout",
     "output_type": "stream",
     "text": [
      "Root mean square error =  6526.431862413696  RMSE\n"
     ]
    }
   ],
   "source": [
    "print(\"Root mean square error = \",math.sqrt(mean_squared_error(predictions, y_test)),\" RMSE\")"
   ]
  },
  {
   "cell_type": "code",
   "execution_count": null,
   "metadata": {},
   "outputs": [],
   "source": []
  }
 ],
 "metadata": {
  "kernelspec": {
   "display_name": "Python 3",
   "language": "python",
   "name": "python3"
  },
  "language_info": {
   "codemirror_mode": {
    "name": "ipython",
    "version": 3
   },
   "file_extension": ".py",
   "mimetype": "text/x-python",
   "name": "python",
   "nbconvert_exporter": "python",
   "pygments_lexer": "ipython3",
   "version": "3.7.3"
  }
 },
 "nbformat": 4,
 "nbformat_minor": 2
}
